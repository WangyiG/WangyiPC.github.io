{
 "cells": [
  {
   "cell_type": "code",
   "execution_count": 1,
   "metadata": {},
   "outputs": [],
   "source": [
    "import pandas as pd"
   ]
  },
  {
   "cell_type": "code",
   "execution_count": 2,
   "metadata": {},
   "outputs": [],
   "source": [
    "import re"
   ]
  },
  {
   "cell_type": "code",
   "execution_count": 3,
   "metadata": {},
   "outputs": [],
   "source": [
    "fpath = \"C:/Users/wangy/Desktop/f.xls\"\n",
    "fpath1 = \"D:/GitHub/WangyiPC.github.io/pandas-steel/非业务员信息费信息人表.xlsx\""
   ]
  },
  {
   "cell_type": "code",
   "execution_count": 4,
   "metadata": {},
   "outputs": [],
   "source": [
    "# df = pd.read_excel(fpath,skiprows=3,usecols = \"C:AE\")\n",
    "df = pd.read_excel(fpath)\n",
    "df1 = pd.read_excel(fpath1)"
   ]
  },
  {
   "cell_type": "code",
   "execution_count": 5,
   "metadata": {},
   "outputs": [],
   "source": [
    "# df.dropna(axis=\"columns\",how=\"all\",inplace=True)   # 删除全是空值的列，inplace=True表示直接在原文件上操作\n",
    "li = df1[\"信息人\"].to_list()\n",
    "l = set(li)"
   ]
  },
  {
   "cell_type": "code",
   "execution_count": 6,
   "metadata": {},
   "outputs": [],
   "source": [
    "df[\"合并\"]=df[\"备注\"].map(str)+\"&\"+df[\"业务员\"].map(str)"
   ]
  },
  {
   "cell_type": "code",
   "execution_count": 7,
   "metadata": {},
   "outputs": [],
   "source": [
    "df[\"信息人\"]=None\n",
    "for i in df.index:\n",
    "    for j in l:\n",
    "        if j in df[\"合并\"].at[i]:\n",
    "            df[\"信息人\"].at[i]=j"
   ]
  },
  {
   "cell_type": "markdown",
   "metadata": {},
   "source": [
    "## 提取信息费\n",
    "---\n",
    "1. 2种规格，备注了a20信息，b30信息，2种不同的信息费，有2个信息标识。\n",
    "2. 3种规格，备注了a和b信息20，却只有1个信息标识。"
   ]
  },
  {
   "cell_type": "code",
   "execution_count": 8,
   "metadata": {},
   "outputs": [],
   "source": [
    "df[\"合并\"]=df[\"合并\"].str.replace(\"信息费\",\"信息\")"
   ]
  },
  {
   "cell_type": "code",
   "execution_count": 9,
   "metadata": {},
   "outputs": [],
   "source": [
    "df[\"信息费\"]=None             # 新建一个空列"
   ]
  },
  {
   "cell_type": "code",
   "execution_count": 10,
   "metadata": {},
   "outputs": [],
   "source": [
    "for i in df.index:\n",
    "    s = re.findall(r\"信息(\\d+)\",df[\"合并\"].at[i])\n",
    "    if len(s)==0:\n",
    "        df[\"信息费\"].at[i] = None\n",
    "    elif len(s)==1:\n",
    "        df[\"信息费\"].at[i] = s[0]\n",
    "    else:\n",
    "        df[\"信息费\"].at[i] = s"
   ]
  },
  {
   "cell_type": "code",
   "execution_count": 11,
   "metadata": {},
   "outputs": [],
   "source": [
    "df = df[[\"备注\",\"信息人\",\"信息费\",\"业务员\",\"合并\"]]"
   ]
  },
  {
   "cell_type": "code",
   "execution_count": 12,
   "metadata": {},
   "outputs": [],
   "source": [
    "df.to_excel(\"C:/Users/wangy/Desktop/abc.xls\",index=False)"
   ]
  }
 ],
 "metadata": {
  "kernelspec": {
   "display_name": "Python 3",
   "language": "python",
   "name": "python3"
  },
  "language_info": {
   "codemirror_mode": {
    "name": "ipython",
    "version": 3
   },
   "file_extension": ".py",
   "mimetype": "text/x-python",
   "name": "python",
   "nbconvert_exporter": "python",
   "pygments_lexer": "ipython3",
   "version": "3.7.6"
  }
 },
 "nbformat": 4,
 "nbformat_minor": 4
}
